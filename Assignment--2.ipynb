{
 "cells": [
  {
   "cell_type": "markdown",
   "metadata": {},
   "source": [
    "*1.AREA OF TRIANGLE\n",
    "  Given 3 sides of a triangle, calculate the area of the triangle."
   ]
  },
  {
   "cell_type": "code",
   "execution_count": 7,
   "metadata": {},
   "outputs": [
    {
     "name": "stdout",
     "output_type": "stream",
     "text": [
      "enter 1st side of the triangle3\n",
      "enter 2nd side of the triangle4\n",
      "enter 3rd side of the triangle5\n",
      "6.0\n"
     ]
    }
   ],
   "source": [
    "s1=int(input(\"enter 1st side of the triangle\"))\n",
    "s2=int(input(\"enter 2nd side of the triangle\"))\n",
    "s3=int(input(\"enter 3rd side of the triangle\"))\n",
    "s=int(s1+s2+s3)/2\n",
    "area=(s*(s-s1)*(s-s2)*(s-s3))**(1/2)\n",
    "print(area)"
   ]
  },
  {
   "cell_type": "markdown",
   "metadata": {},
   "source": [
    "*2.TAKE A STRING FROM END USER AND CHECK IF THE VALUE IS PALINDROME OR NOT."
   ]
  },
  {
   "cell_type": "code",
   "execution_count": 8,
   "metadata": {},
   "outputs": [
    {
     "name": "stdout",
     "output_type": "stream",
     "text": [
      "enter a stringmadam\n",
      "it is a palindrome\n"
     ]
    }
   ],
   "source": [
    "#method-1\n",
    "string1 = input(\"enter a string\")\n",
    "l1=len(string1)\n",
    "\n",
    "\n",
    "if string1[::]==string1[::-1]:\n",
    "    print(\"it is a palindrome\")\n",
    "else:\n",
    "    print(\"it is not a palindrome\")"
   ]
  },
  {
   "cell_type": "code",
   "execution_count": 9,
   "metadata": {},
   "outputs": [
    {
     "name": "stdout",
     "output_type": "stream",
     "text": [
      "enter a stringmadam\n",
      "yes, it is a palindrome\n"
     ]
    }
   ],
   "source": [
    "#method-2\n",
    "string = input(\"enter a string\")\n",
    "l=len(string)\n",
    "\n",
    "k=l\n",
    "c=0\n",
    "for i in range(0,l,1):\n",
    "    if string[i] == string[k-1]:\n",
    "        k=k-1\n",
    "    else:\n",
    "        print(\"not a palindrome\")\n",
    "        c=1\n",
    "        break\n",
    "if c==0:\n",
    "    print(\"yes, it is a palindrome\")\n",
    "        "
   ]
  },
  {
   "cell_type": "markdown",
   "metadata": {},
   "source": [
    "*3.WRITE A PROGRAM THAT READS A YEAR FROM THE USER AND DISPLAYS A MESSAGE IT IS A LEAP YEAR OR NOT."
   ]
  },
  {
   "cell_type": "code",
   "execution_count": 53,
   "metadata": {},
   "outputs": [
    {
     "name": "stdout",
     "output_type": "stream",
     "text": [
      "enter a year1996\n",
      "it's a leap year\n"
     ]
    }
   ],
   "source": [
    "year=int(input(\"enter a year\"))\n",
    "\n",
    "if(year%4==0 or year%400==0):\n",
    "    if year%100==0 and (year/100)%2!=0:\n",
    "        print(\"not a leap year\")\n",
    "    else:\n",
    "        print(\"it's a leap year\")\n",
    "else:\n",
    "    print(\"not a leap year\")\n"
   ]
  },
  {
   "cell_type": "markdown",
   "metadata": {},
   "source": [
    "*4.SPACE TO HYPHEN PROBLEM:\n",
    "   Take a string as input, and replaces spaces \" \" with hyphens \"-\", and returns a string."
   ]
  },
  {
   "cell_type": "code",
   "execution_count": 76,
   "metadata": {},
   "outputs": [
    {
     "name": "stdout",
     "output_type": "stream",
     "text": [
      "enter a string with spacesthis prgm converts spaces to hyphen\n",
      "this-prgm-converts-spaces-to-hyphen\n"
     ]
    }
   ],
   "source": [
    "strng=input(\"enter a string with spaces\")\n",
    "l_strng=strng.split(\" \")\n",
    "r=\"-\".join(l_strng)\n",
    "print(r)"
   ]
  },
  {
   "cell_type": "markdown",
   "metadata": {},
   "source": [
    "*5.UNIQUE SORT PROBLEM\n",
    "Take a string as input that accepts a comma separated sequence of words as input and prints the unique words in sorted form(alphanumerically)"
   ]
  },
  {
   "cell_type": "code",
   "execution_count": 105,
   "metadata": {},
   "outputs": [
    {
     "name": "stdout",
     "output_type": "stream",
     "text": [
      "enter a string separated by commasorange,white,red,cyan,green,magenta,cyan,pink,white\n",
      "cyan,green,magenta,orange,pink,red,white\n"
     ]
    }
   ],
   "source": [
    "str3=input(\"enter a string separated by commas\")\n",
    "sp=str3.split(',')\n",
    "f_Set=set(sp)\n",
    "res=sorted(f_Set)\n",
    "f_list=list(res)\n",
    "f=\",\".join(f_list)\n",
    "print(f)"
   ]
  },
  {
   "cell_type": "markdown",
   "metadata": {},
   "source": [
    "*6.TAX CALCULATOR\n",
    "Ask the user for their monthly salary. Calculate whether they have to pay tax and if so, how much is that amount.\n",
    "Print the result."
   ]
  },
  {
   "cell_type": "code",
   "execution_count": 5,
   "metadata": {},
   "outputs": [
    {
     "name": "stdout",
     "output_type": "stream",
     "text": [
      "enter your monthly salary:50000\n",
      "your tax amount to be paid is 60000.0\n"
     ]
    }
   ],
   "source": [
    "salary=int(input(\"enter your monthly salary:\"))\n",
    "salary=salary*12\n",
    "tax=0\n",
    "if salary<=250000:\n",
    "    print(\"no tax to pay\")\n",
    "elif 250001<=salary<=500000:\n",
    "    tax=salary*5/100\n",
    "elif 500001<=salary<=750000:\n",
    "    tax=salary*10/100\n",
    "elif 750001<=salary<=100000:\n",
    "    tax=salary*15/100\n",
    "elif 1000001<=salary<=1250000:\n",
    "    tax=salary*20/100\n",
    "elif 1250001<=salary<=1500000:\n",
    "    tax=salary*25/100\n",
    "else:\n",
    "    tax=salary*30/100\n",
    "print(\"your tax amount to be paid is\",tax)"
   ]
  },
  {
   "cell_type": "markdown",
   "metadata": {},
   "source": [
    "*7.TAKE A LIST OF INTEGERS AS AN ARGUMENT, AND CONVERTS IT INTO A SINGLE INTEGER ( RETURN THE INTEGER)"
   ]
  },
  {
   "cell_type": "code",
   "execution_count": 136,
   "metadata": {},
   "outputs": [
    {
     "name": "stdout",
     "output_type": "stream",
     "text": [
      "102030\n"
     ]
    }
   ],
   "source": [
    "lis=[10,20,30]\n",
    "li=\" \"\n",
    "for i in range(0,len(lis),1):\n",
    "    li=li+str(lis[i])\n",
    "li_int=int(li)\n",
    "print(li_int)"
   ]
  },
  {
   "cell_type": "markdown",
   "metadata": {},
   "source": [
    "*8.UNITS OF TIME\n",
    "  Create a program that reads duration from the user as a number of days, hours, minutes, and seconds. Compute and display the total number of seconds represented by this duration."
   ]
  },
  {
   "cell_type": "code",
   "execution_count": 138,
   "metadata": {},
   "outputs": [
    {
     "name": "stdout",
     "output_type": "stream",
     "text": [
      "enter no. of days2\n",
      "enter no. of hrs0\n",
      "enter no. of mins0\n",
      "enter no. of secs0\n",
      "172800\n"
     ]
    }
   ],
   "source": [
    "days=int(input(\"enter no. of days\"))\n",
    "hrs=int(input(\"enter no. of hrs\"))\n",
    "mins=int(input(\"enter no. of mins\"))\n",
    "secs=int(input(\"enter no. of secs\"))\n",
    "total_secs=secs+(mins*60)+(hrs*60*60)+(days*24*60*60)\n",
    "print(total_secs)"
   ]
  },
  {
   "cell_type": "markdown",
   "metadata": {},
   "source": [
    "*9.SORT 3 INTEGERS\n",
    "  Given 3 integers (given through user input), sort the numbers using |min| and |max| functions."
   ]
  },
  {
   "cell_type": "code",
   "execution_count": 144,
   "metadata": {},
   "outputs": [
    {
     "name": "stdout",
     "output_type": "stream",
     "text": [
      "enter 1st value20\n",
      "enter 2nd value30\n",
      "enter 3rd value1\n",
      "given values are: [20, 30, 1]\n",
      "max value: 30\n",
      "min value: 1\n"
     ]
    }
   ],
   "source": [
    "lst=[]\n",
    "a=int(input(\"enter 1st value\"))\n",
    "b=int(input(\"enter 2nd value\"))\n",
    "c=int(input(\"enter 3rd value\"))\n",
    "lst.append(a)\n",
    "lst.append(b)\n",
    "lst.append(c)\n",
    "print(\"given values are:\",lst)\n",
    "print('max value:',max(lst))\n",
    "print('min value:',min(lst))"
   ]
  },
  {
   "cell_type": "markdown",
   "metadata": {},
   "source": [
    "*10.Write a program that reads a date from the user and computes its immediate successor. The date is the format YYYY-MM-DD.\n",
    "So, 2020-04-15 will have the successor 2020-04-16."
   ]
  },
  {
   "cell_type": "code",
   "execution_count": 37,
   "metadata": {},
   "outputs": [
    {
     "name": "stdout",
     "output_type": "stream",
     "text": [
      "enter date in YYYY-MM-DD format2021-12-31\n",
      "2022-1-1\n"
     ]
    }
   ],
   "source": [
    "date=input(\"enter date in YYYY-MM-DD format\")\n",
    "date_lst=date.split(\"-\")\n",
    "d_lst=[]\n",
    "year=int(date_lst[0])\n",
    "month=int(date_lst[1])\n",
    "date1=int(date_lst[2])\n",
    "\n",
    "def leap_year(yr):\n",
    "    yr=int(yr)\n",
    "    if(yr%4==0 or yr%400==0):\n",
    "        if yr%100==0 and (yr/100)%2!=0:\n",
    "            return 0\n",
    "        else:\n",
    "            return 1\n",
    "    else:\n",
    "        return 0\n",
    "    \n",
    "m1=[4,6,9,11]\n",
    "if date1==30 and month in m1:\n",
    "    date1=1\n",
    "    month=month+1\n",
    "elif date1==28 and month==2 and leap_year(year):\n",
    "    date1=29\n",
    "elif date1==28 and month==2 and leap_year(year)==0:\n",
    "    date1=1\n",
    "    month=month+1\n",
    "elif date1==30 and month not in m1:\n",
    "    date1=31\n",
    "elif date1==31 and month==12:\n",
    "    year=year+1\n",
    "    month=1\n",
    "    date1=1\n",
    "elif date1==31 and month!=12:\n",
    "    month=month+1\n",
    "    date1=1\n",
    "else:\n",
    "    date1=date1+1\n",
    "\n",
    "up_date=[]\n",
    "d_lst.append(str(year))\n",
    "d_lst.append(str(month))\n",
    "d_lst.append(str(date1))\n",
    "up_date=\"-\".join(d_lst)\n",
    "print(up_date)\n"
   ]
  },
  {
   "cell_type": "markdown",
   "metadata": {},
   "source": [
    "*11.COMPUTE PRODUCT OF A LIST OF NUMBERS [45,3,2,89,72,1,10,7]"
   ]
  },
  {
   "cell_type": "code",
   "execution_count": 1,
   "metadata": {},
   "outputs": [
    {
     "name": "stdout",
     "output_type": "stream",
     "text": [
      "121111200\n"
     ]
    }
   ],
   "source": [
    "p=[45,3,2,89,72,1,10,7]\n",
    "pr=1\n",
    "for i in range(0,len(p),1):\n",
    "    pr=pr*p[i]\n",
    "print(pr)"
   ]
  },
  {
   "cell_type": "markdown",
   "metadata": {},
   "source": [
    "*12.COMPUTE GIVEN NUM_LIST = [5,6,8,34,89,1] TO GET DESIRED OUTPUT\n",
    "OUTPUT:OUT_LST=[11,14,42,123,90]"
   ]
  },
  {
   "cell_type": "code",
   "execution_count": 28,
   "metadata": {},
   "outputs": [
    {
     "name": "stdout",
     "output_type": "stream",
     "text": [
      "[11, 14, 42, 123, 90]\n"
     ]
    }
   ],
   "source": [
    "num_lst=[5,6,8,34,89,1]\n",
    "out_lst=[]\n",
    "a=0\n",
    "for i in range(0,len(num_lst)-1,1):\n",
    "    a=0\n",
    "    a=num_lst[i]+num_lst[i+1]\n",
    "    out_lst.append(a)\n",
    "print(out_lst)"
   ]
  },
  {
   "cell_type": "markdown",
   "metadata": {},
   "source": [
    "*13.COMPUTE GIVEN NUM_TUPLE = (5,6,8,3,9,1) TO GET DESIRED OUTPUT \n",
    "OUTPUT: OUT_LST=[5,30,240,720,6480,6480]"
   ]
  },
  {
   "cell_type": "code",
   "execution_count": 32,
   "metadata": {},
   "outputs": [
    {
     "name": "stdout",
     "output_type": "stream",
     "text": [
      "[30, 240, 720, 6480, 6480]\n"
     ]
    }
   ],
   "source": [
    "num_tuple=(5,6,8,3,9,1)\n",
    "c=list(num_tuple)\n",
    "c2=[]\n",
    "m=c[0]\n",
    "for i in range(0,len(c)-1,1):\n",
    "    m=m*c[i+1]\n",
    "    c2.append(m)\n",
    "print(c2)"
   ]
  },
  {
   "cell_type": "markdown",
   "metadata": {},
   "source": [
    "*14.WRITE A PYTHON CODE THAT TAKES A NUMBER AND RETURNS A LIST OF IT'S DIGITS. SO FOR 586392 IT SHOULD RETURN [5,8,6,3,9,2]"
   ]
  },
  {
   "cell_type": "code",
   "execution_count": 37,
   "metadata": {},
   "outputs": [
    {
     "name": "stdout",
     "output_type": "stream",
     "text": [
      "[5, 8, 6, 3, 9, 2]\n"
     ]
    }
   ],
   "source": [
    "num=int(586392)\n",
    "n2=[]\n",
    "while(num!=0):\n",
    "    r=num%10\n",
    "    num=num//10\n",
    "    n2.append(r)\n",
    "n2=n2[::-1]\n",
    "print(n2)\n",
    "    "
   ]
  },
  {
   "cell_type": "markdown",
   "metadata": {},
   "source": [
    "*15.WRITE A PROGRAM THAT FINDS THE LONGEST PALINDROMIC SUBSTRING OF A GIVEN STRING."
   ]
  },
  {
   "cell_type": "code",
   "execution_count": 10,
   "metadata": {},
   "outputs": [
    {
     "name": "stdout",
     "output_type": "stream",
     "text": [
      "enter a stringabacdaba\n",
      "aba\n"
     ]
    }
   ],
   "source": [
    "st=input(\"enter a string\")\n",
    "s=[]\n",
    "l=1\n",
    "ct=0\n",
    "rs=\"\"\n",
    "for i in range(0,len(st),1):\n",
    "    for j in range(i+1,len(st)):\n",
    "        if st[i:j] == st[j:i:-1]:\n",
    "            if len(st[i:j])>l:\n",
    "                l=len(st[i:j])\n",
    "                rs=st[i:j+1]\n",
    "                ct=1\n",
    "                   \n",
    "if ct==1:\n",
    "                   print(rs)\n",
    "else:\n",
    "    print(-1)"
   ]
  },
  {
   "cell_type": "markdown",
   "metadata": {},
   "source": [
    "16.SUBSTRING CHECK ( BUG FUNNY )\n",
    "Given two binary strings, A(of length 10) and B(of length 5), output 1 if B is a substring of A and 0 otherwise\n",
    "First two lines of input:\n",
    "1010110010       10110\n",
    "1110111011       10011\n",
    "First two lines of output:\n",
    "1\n",
    "0"
   ]
  },
  {
   "cell_type": "code",
   "execution_count": 11,
   "metadata": {},
   "outputs": [
    {
     "name": "stdout",
     "output_type": "stream",
     "text": [
      "enter a string111011101\n",
      "enter a string to check10011\n",
      "0\n"
     ]
    }
   ],
   "source": [
    "str1=input(\"enter a string\")\n",
    "str2=input(\"enter a string to check\")\n",
    "a=str1.find(str2)\n",
    "if a== -1:\n",
    "    print(0)\n",
    "else:\n",
    "    print(1)"
   ]
  },
  {
   "cell_type": "markdown",
   "metadata": {},
   "source": [
    "*17.POUR1-Pouring Water\n",
    "Given two vessels, one of which can accommodate a litres of water and the other - b litres of water, determine the number of steps required to obtain exactly c litres of water in one of the vessels.\n",
    "\n",
    "At the beginning both vessels are empty. The following operations are counted as steps:\n",
    "  emptying a vessel\n",
    "  filling a vessel\n",
    "  pouring water from one vessel to the other, without spilling, until one of the vessels is either full or empty"
   ]
  },
  {
   "cell_type": "code",
   "execution_count": 4,
   "metadata": {},
   "outputs": [
    {
     "name": "stdout",
     "output_type": "stream",
     "text": [
      "Minimum number of steps required is 6\n"
     ]
    }
   ],
   "source": [
    "# Python3 implementation of program to count  \n",
    "# minimum number of steps required to measure \n",
    "# d litre water using jugs of m liters and n  \n",
    "# liters capacity. \n",
    "def gcd(a, b): \n",
    "    if b==0: \n",
    "        return a \n",
    "    return gcd(b, a%b) \n",
    "  \n",
    "  \n",
    "''' fromCap -- Capacity of jug from which \n",
    "              water is poured \n",
    "   toCap   -- Capacity of jug to which \n",
    "              water is poured \n",
    "   d       -- Amount to be measured '''\n",
    "def Pour(toJugCap, fromJugCap, d): \n",
    "  \n",
    "  \n",
    "    # Initialize current amount of water \n",
    "    # in source and destination jugs \n",
    "    fromJug = fromJugCap \n",
    "    toJug  = 0\n",
    "  \n",
    "    # Initialize steps required \n",
    "    step = 1\n",
    "    while ((fromJug  is not d) and (toJug is not d)): \n",
    "  \n",
    "          \n",
    "        # Find the maximum amount that can be \n",
    "        # poured \n",
    "        temp = min(fromJug, toJugCap-toJug) \n",
    "  \n",
    "        # Pour 'temp' liter from 'fromJug' to 'toJug' \n",
    "        toJug = toJug + temp \n",
    "        fromJug = fromJug - temp \n",
    "  \n",
    "        step =  step + 1\n",
    "        if ((fromJug == d) or (toJug == d)): \n",
    "            break\n",
    "  \n",
    "        # If first jug becomes empty, fill it \n",
    "        if fromJug == 0: \n",
    "            fromJug = fromJugCap \n",
    "            step =  step + 1\n",
    "  \n",
    "        # If second jug becomes full, empty it \n",
    "        if toJug == toJugCap: \n",
    "            toJug = 0\n",
    "            step =  step + 1\n",
    "              \n",
    "    return step \n",
    "  \n",
    "# Returns count of minimum steps needed to \n",
    "# measure d liter \n",
    "def minSteps(n, m, d): \n",
    "    if m> n: \n",
    "        temp = m \n",
    "        m = n \n",
    "        n = temp \n",
    "          \n",
    "    if (d%(gcd(n,m)) is not 0): \n",
    "        return -1\n",
    "      \n",
    "    # Return minimum two cases: \n",
    "    # a) Water of n liter jug is poured into \n",
    "    #    m liter jug \n",
    "    return(min(Pour(n,m,d), Pour(m,n,d))) \n",
    "  \n",
    "# Driver code \n",
    "if __name__ == '__main__': \n",
    "  \n",
    "    n = 3\n",
    "    m = 5\n",
    "    d = 4\n",
    "  \n",
    "    print('Minimum number of steps required is', minSteps(n, m, d)) "
   ]
  },
  {
   "cell_type": "code",
   "execution_count": null,
   "metadata": {},
   "outputs": [],
   "source": []
  }
 ],
 "metadata": {
  "kernelspec": {
   "display_name": "Python 3",
   "language": "python",
   "name": "python3"
  },
  "language_info": {
   "codemirror_mode": {
    "name": "ipython",
    "version": 3
   },
   "file_extension": ".py",
   "mimetype": "text/x-python",
   "name": "python",
   "nbconvert_exporter": "python",
   "pygments_lexer": "ipython3",
   "version": "3.7.4"
  }
 },
 "nbformat": 4,
 "nbformat_minor": 2
}
